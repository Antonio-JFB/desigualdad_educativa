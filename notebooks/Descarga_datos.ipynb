{
 "cells": [
  {
   "cell_type": "markdown",
   "id": "ede6dad6-a2e1-409b-8cfd-dac4de2ab2c0",
   "metadata": {},
   "source": [
    "# En esta libreta se haran la descarga de los datos utilizados en el proyecto."
   ]
  },
  {
   "cell_type": "code",
   "execution_count": 5,
   "id": "a8c40a4f-9dc6-45e1-88c5-55e36e7b3001",
   "metadata": {},
   "outputs": [],
   "source": [
    "import os\n",
    "import requests\n",
    "from dotenv import load_dotenv"
   ]
  },
  {
   "cell_type": "markdown",
   "id": "0527d9ea-45be-49f7-a276-e9327405b600",
   "metadata": {},
   "source": [
    "## Uno de los datos que se utilizará como medidor es el Producto Interno Bruto (PIB), el cual se obtiene por medio de la API de INEGI."
   ]
  },
  {
   "cell_type": "raw",
   "id": "5c207525-89fe-4fe9-ae31-7a6b8a60bfb0",
   "metadata": {},
   "source": [
    "Haremos pruebas de los datos que se obtienen"
   ]
  },
  {
   "cell_type": "code",
   "execution_count": 4,
   "id": "53150fd6-e7be-48b7-999c-9b0b901c35e1",
   "metadata": {},
   "outputs": [],
   "source": [
    "load_dotenv()\n",
    "INEGI_TOKEN = os.getenv(\"INEGI_TOKEN\")"
   ]
  },
  {
   "cell_type": "code",
   "execution_count": 6,
   "id": "dadd015d-513f-4940-a6f2-22e1871e9fea",
   "metadata": {},
   "outputs": [
    {
     "name": "stdout",
     "output_type": "stream",
     "text": [
      "Descargando datos de INEGI desde: https://www.inegi.org.mx/app/api/indicadores/desarrolladores/jsonxml/INDICATOR/6207061405/es/07000026/false/BISE/2.0/9385abdc-d58f-831e-ba01-aacea4634261?type=json\n",
      "\n",
      "Estructura de la respuesta:\n",
      "dict_keys(['Header', 'Series'])\n",
      "\n",
      "Indicador: 6207061405\n",
      "Nombre: N/A\n",
      "2003/01 -> None\n",
      "2003/02 -> None\n",
      "2003/03 -> None\n",
      "2003/04 -> None\n",
      "2004/01 -> 4.11865123160283990000\n",
      "2004/02 -> 9.12535050525895030000\n",
      "2004/03 -> 0.78015198435390687000\n",
      "2004/04 -> 4.29846290241783890000\n",
      "2005/01 -> 3.64322770925849680000\n",
      "2005/02 -> 1.58952793602269080000\n",
      "2005/03 -> 9.87045529597747870000\n",
      "2005/04 -> 11.79276247593095700000\n",
      "2006/01 -> 18.96400917744725200000\n",
      "2006/02 -> 9.23519577495737560000\n",
      "2006/03 -> 14.59936750571560500000\n",
      "2006/04 -> 16.89182257265981900000\n",
      "2007/01 -> 11.94649741967921800000\n",
      "2007/02 -> 14.93446062007942000000\n",
      "2007/03 -> 6.59599199599109910000\n",
      "2007/04 -> -2.95159054605321100000\n",
      "2008/01 -> -6.46317211478564960000\n",
      "2008/02 -> -2.04766152266584810000\n",
      "2008/03 -> -2.28154769095581860000\n",
      "2008/04 -> 4.95745568497557090000\n",
      "2009/01 -> -7.28102526734384980000\n",
      "2009/02 -> -2.29900153682798700000\n",
      "2009/03 -> 1.93405067767868390000\n",
      "2009/04 -> -4.39791360928991540000\n",
      "2010/01 -> 3.14393249586670720000\n",
      "2010/02 -> -3.24403967443930700000\n",
      "2010/03 -> 8.10770145895878610000\n",
      "2010/04 -> 3.77635858372170220000\n",
      "2011/01 -> -0.30090223863035703000\n",
      "2011/02 -> 6.69657393781635340000\n",
      "2011/03 -> 8.40722087833131580000\n",
      "2011/04 -> 16.44803550150335500000\n",
      "2012/01 -> 17.42036880078119100000\n",
      "2012/02 -> 6.44559782982459240000\n",
      "2012/03 -> -2.38428168273753730000\n",
      "2012/04 -> 8.07681906214064330000\n",
      "2013/01 -> -0.32722801330565687000\n",
      "2013/02 -> 7.72298790552281390000\n",
      "2013/03 -> 6.80923433647964770000\n",
      "2013/04 -> -9.14117188164507870000\n",
      "2014/01 -> 0.58940729240227085000\n",
      "2014/02 -> -5.06932682870075270000\n",
      "2014/03 -> -6.17645827048905010000\n",
      "2014/04 -> 4.04244587111477930000\n",
      "2015/01 -> -1.88321076847522310000\n",
      "2015/02 -> 4.59439484110598070000\n",
      "2015/03 -> 12.91144030266527000000\n",
      "2015/04 -> 3.83471706753051930000\n",
      "2016/01 -> 6.29007143811377000000\n",
      "2016/02 -> 8.36294041524642800000\n",
      "2016/03 -> 10.38431922633513700000\n",
      "2016/04 -> 25.11624400904575800000\n",
      "2017/01 -> 22.14130275402888500000\n",
      "2017/02 -> 12.21045957550117600000\n",
      "2017/03 -> -1.35561516140451490000\n",
      "2017/04 -> -5.86355974933606200000\n",
      "2018/01 -> -2.93854546650533170000\n",
      "2018/02 -> -0.06076672024460095000\n",
      "2018/03 -> 13.86505177946404000000\n",
      "2018/04 -> 14.87031662559597600000\n",
      "2019/01 -> -4.48739846454543600000\n",
      "2019/02 -> 7.43524480284037300000\n",
      "2019/03 -> 6.19081497484631900000\n",
      "2019/04 -> 5.08443661758568060000\n",
      "2020/01 -> 28.67042025804508400000\n",
      "2020/02 -> 14.01404965700112400000\n",
      "2020/03 -> 10.44824393452061900000\n",
      "2020/04 -> 14.58526237784238300000\n",
      "2021/01 -> 7.27923203421796900000\n",
      "2021/02 -> 12.22081626611726800000\n",
      "2021/03 -> 1.57811676542465300000\n",
      "2021/04 -> 6.30592935038369300000\n",
      "2022/01 -> 10.28489720217653800000\n",
      "2022/02 -> 11.12121549456269000000\n",
      "2022/03 -> 8.36985378103986500000\n",
      "2022/04 -> -18.32639155813925000000\n",
      "2023/01 -> -1.39834231268197580000\n"
     ]
    }
   ],
   "source": [
    "def descargar_pib_sonora():\n",
    "    load_dotenv()\n",
    "    INEGI_TOKEN = os.getenv(\"INEGI_TOKEN\")\n",
    "    if not INEGI_TOKEN:\n",
    "        raise ValueError(\"No se encontrÃ³ el token de INEGI. AsegÃºrate de definirlo en .env\")\n",
    "\n",
    "    indicador = \"6207061405\"  # ITAEE Actividades secundarias en Sonora\n",
    "    url = f\"https://www.inegi.org.mx/app/api/indicadores/desarrolladores/jsonxml/INDICATOR/{indicador}/es/07000026/false/BISE/2.0/{INEGI_TOKEN}?type=json\"\n",
    "\n",
    "    print(f\"Descargando datos de INEGI desde: {url}\\n\")\n",
    "    response = requests.get(url)\n",
    "    if response.status_code != 200:\n",
    "        raise Exception(f\"Error al descargar datos de INEGI: {response.status_code}\")\n",
    "\n",
    "    data = response.json()\n",
    "\n",
    "    print(\"Estructura de la respuesta:\")\n",
    "    print(data.keys())\n",
    "\n",
    "    if \"Series\" in data:\n",
    "        for serie in data[\"Series\"]:\n",
    "            print(f\"\\nIndicador: {serie.get('INDICADOR', 'N/A')}\")\n",
    "            print(f\"Nombre: {serie.get('TITULO', 'N/A')}\")\n",
    "            for obs in serie.get(\"OBSERVATIONS\", []):\n",
    "                print(f\"{obs['TIME_PERIOD']} -> {obs['OBS_VALUE']}\")\n",
    "    else:\n",
    "        print(\" No se encontrÃ³ la clave 'Series' en la respuesta de INEGI\")\n",
    "\n",
    "if __name__ == \"__main__\":\n",
    "    descargar_pib_sonora()"
   ]
  },
  {
   "cell_type": "code",
   "execution_count": 19,
   "id": "b8fb6d00-390a-4bf2-9789-be2485e25bc8",
   "metadata": {},
   "outputs": [],
   "source": [
    "def prueba_api():\n",
    "    load_dotenv()\n",
    "    INEGI_TOKEN = os.getenv(\"INEGI_TOKEN\")\n",
    "    if not INEGI_TOKEN:\n",
    "        raise ValueError(\"No se encontrÃ³ el token de INEGI. AsegÃºrate de definirlo en .env\")\n",
    "    indicador = \"070000260030\"  # Grado promedio de escolaridad de la población de 15 y más años\n",
    "    url = f\"https://www.inegi.org.mx/app/api/indicadores/desarrolladores/jsonxml/INDICATOR/{indicador}/es/07000026/false/BISE/2.0/{INEGI_TOKEN}?type=json\"\n",
    "\n",
    "    print(f\"Descargando datos de INEGI desde: {url}\\n\")\n",
    "    response = requests.get(url)\n",
    "    if response.status_code != 200:\n",
    "        raise Exception(f\"Error al descargar datos de INEGI: {response.status_code}\")\n",
    "\n",
    "    data = response.json()\n",
    "\n",
    "    print(\"Estructura de la respuesta:\")\n",
    "    print(data.keys())\n",
    "\n",
    "    if \"Series\" in data:\n",
    "        for serie in data[\"Series\"]:\n",
    "            print(f\"\\nIndicador: {serie.get('INDICADOR', 'N/A')}\")\n",
    "            print(f\"Nombre: {serie.get('TITULO', 'N/A')}\")\n",
    "            for obs in serie.get(\"OBSERVATIONS\", []):\n",
    "                print(f\"{obs['TIME_PERIOD']} -> {obs['OBS_VALUE']}\")\n",
    "    else:\n",
    "        print(\" No se encontrÃ³ la clave 'Series' en la respuesta de INEGI\")\n"
   ]
  },
  {
   "cell_type": "code",
   "execution_count": 20,
   "id": "083802cf-341f-45c1-b48e-030253467f4d",
   "metadata": {},
   "outputs": [
    {
     "name": "stdout",
     "output_type": "stream",
     "text": [
      "Descargando datos de INEGI desde: https://www.inegi.org.mx/app/api/indicadores/desarrolladores/jsonxml/INDICATOR/070000260030/es/07000026/false/BISE/2.0/9385abdc-d58f-831e-ba01-aacea4634261?type=json\n",
      "\n"
     ]
    },
    {
     "ename": "Exception",
     "evalue": "Error al descargar datos de INEGI: 400",
     "output_type": "error",
     "traceback": [
      "\u001b[31m---------------------------------------------------------------------------\u001b[39m",
      "\u001b[31mException\u001b[39m                                 Traceback (most recent call last)",
      "\u001b[36mCell\u001b[39m\u001b[36m \u001b[39m\u001b[32mIn[20]\u001b[39m\u001b[32m, line 1\u001b[39m\n\u001b[32m----> \u001b[39m\u001b[32m1\u001b[39m \u001b[43mprueba_api\u001b[49m\u001b[43m(\u001b[49m\u001b[43m)\u001b[49m\n",
      "\u001b[36mCell\u001b[39m\u001b[36m \u001b[39m\u001b[32mIn[19]\u001b[39m\u001b[32m, line 12\u001b[39m, in \u001b[36mprueba_api\u001b[39m\u001b[34m()\u001b[39m\n\u001b[32m     10\u001b[39m response = requests.get(url)\n\u001b[32m     11\u001b[39m \u001b[38;5;28;01mif\u001b[39;00m response.status_code != \u001b[32m200\u001b[39m:\n\u001b[32m---> \u001b[39m\u001b[32m12\u001b[39m     \u001b[38;5;28;01mraise\u001b[39;00m \u001b[38;5;167;01mException\u001b[39;00m(\u001b[33mf\u001b[39m\u001b[33m\"\u001b[39m\u001b[33mError al descargar datos de INEGI: \u001b[39m\u001b[38;5;132;01m{\u001b[39;00mresponse.status_code\u001b[38;5;132;01m}\u001b[39;00m\u001b[33m\"\u001b[39m)\n\u001b[32m     14\u001b[39m data = response.json()\n\u001b[32m     16\u001b[39m \u001b[38;5;28mprint\u001b[39m(\u001b[33m\"\u001b[39m\u001b[33mEstructura de la respuesta:\u001b[39m\u001b[33m\"\u001b[39m)\n",
      "\u001b[31mException\u001b[39m: Error al descargar datos de INEGI: 400"
     ]
    }
   ],
   "source": [
    "prueba_api()"
   ]
  }
 ],
 "metadata": {
  "kernelspec": {
   "display_name": "Python 3 (ipykernel)",
   "language": "python",
   "name": "python3"
  },
  "language_info": {
   "codemirror_mode": {
    "name": "ipython",
    "version": 3
   },
   "file_extension": ".py",
   "mimetype": "text/x-python",
   "name": "python",
   "nbconvert_exporter": "python",
   "pygments_lexer": "ipython3",
   "version": "3.13.7"
  }
 },
 "nbformat": 4,
 "nbformat_minor": 5
}
