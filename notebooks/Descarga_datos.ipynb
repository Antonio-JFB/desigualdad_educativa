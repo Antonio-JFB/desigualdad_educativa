{
 "cells": [
  {
   "cell_type": "code",
   "execution_count": 1,
   "id": "a8c40a4f-9dc6-45e1-88c5-55e36e7b3001",
   "metadata": {},
   "outputs": [],
   "source": [
    "import os\n",
    "import requests\n",
    "from dotenv import load_dotenv"
   ]
  },
  {
   "cell_type": "code",
   "execution_count": null,
   "id": "dadd015d-513f-4940-a6f2-22e1871e9fea",
   "metadata": {},
   "outputs": [],
   "source": [
    "def descargar_pib_sonora():\n",
    "    load_dotenv()\n",
    "    INEGI_TOKEN = os.getenv(\"INEGI_TOKEN\")\n",
    "    if not INEGI_TOKEN:\n",
    "        raise ValueError(\"No se encontrÃ³ el token de INEGI. AsegÃºrate de definirlo en .env\")\n",
    "\n",
    "    indicador = \"6207061405\"  # ITAEE Actividades secundarias en Sonora\n",
    "    url = f\"https://www.inegi.org.mx/app/api/indicadores/desarrolladores/jsonxml/INDICATOR/{indicador}/es/07000026/false/BISE/2.0/{INEGI_TOKEN}?type=json\"\n",
    "\n",
    "    print(f\"Descargando datos de INEGI desde: {url}\\n\")\n",
    "    response = requests.get(url)\n",
    "    if response.status_code != 200:\n",
    "        raise Exception(f\"Error al descargar datos de INEGI: {response.status_code}\")\n",
    "\n",
    "    data = response.json()\n",
    "\n",
    "    print(\"Estructura de la respuesta:\")\n",
    "    print(data.keys())\n",
    "\n",
    "    if \"Series\" in data:\n",
    "        for serie in data[\"Series\"]:\n",
    "            print(f\"\\nIndicador: {serie.get('INDICADOR', 'N/A')}\")\n",
    "            print(f\"Nombre: {serie.get('TITULO', 'N/A')}\")\n",
    "            for obs in serie.get(\"OBSERVATIONS\", []):\n",
    "                print(f\"{obs['TIME_PERIOD']} -> {obs['OBS_VALUE']}\")\n",
    "    else:\n",
    "        print(\" No se encontrÃ³ la clave 'Series' en la respuesta de INEGI\")\n",
    "\n",
    "if __name__ == \"__main__\":\n",
    "    descargar_pib_sonora()"
   ]
  }
 ],
 "metadata": {
  "kernelspec": {
   "display_name": "Python 3 (ipykernel)",
   "language": "python",
   "name": "python3"
  },
  "language_info": {
   "codemirror_mode": {
    "name": "ipython",
    "version": 3
   },
   "file_extension": ".py",
   "mimetype": "text/x-python",
   "name": "python",
   "nbconvert_exporter": "python",
   "pygments_lexer": "ipython3",
   "version": "3.13.7"
  }
 },
 "nbformat": 4,
 "nbformat_minor": 5
}
