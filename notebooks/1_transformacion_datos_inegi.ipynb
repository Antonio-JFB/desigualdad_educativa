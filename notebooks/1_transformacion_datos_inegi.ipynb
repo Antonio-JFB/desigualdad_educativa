{
 "cells": [
  {
   "cell_type": "code",
   "execution_count": 1,
   "id": "1974f45d",
   "metadata": {},
   "outputs": [],
   "source": [
    "import os\n",
    "import pandas as pd\n",
    "\n",
    "# Mostrar configuración general\n",
    "pd.set_option('display.max_columns', None)\n",
    "pd.set_option('display.max_rows', 5)\n"
   ]
  },
  {
   "cell_type": "code",
   "execution_count": 2,
   "id": "2e4e43b2",
   "metadata": {},
   "outputs": [
    {
     "name": "stdout",
     "output_type": "stream",
     "text": [
      "📁 Carpetas listas:\n",
      "RAW: ../data/external\n",
      "INTERIM: ../data/interim\n",
      "PROCESSED: ../data/processed\n"
     ]
    }
   ],
   "source": [
    "# Rutas base del proyecto\n",
    "DATA_RAW = \"../data/external\"\n",
    "DATA_INTERIM = \"../data/interim\"\n",
    "DATA_PROCESSED = \"../data/processed\"\n",
    "\n",
    "# Crear carpetas si no existen\n",
    "os.makedirs(DATA_INTERIM, exist_ok=True)\n",
    "os.makedirs(DATA_PROCESSED, exist_ok=True)\n",
    "\n",
    "print(\"📁 Carpetas listas:\")\n",
    "print(f\"RAW: {DATA_RAW}\")\n",
    "print(f\"INTERIM: {DATA_INTERIM}\")\n",
    "print(f\"PROCESSED: {DATA_PROCESSED}\")\n"
   ]
  },
  {
   "cell_type": "code",
   "execution_count": 3,
   "id": "89897489",
   "metadata": {},
   "outputs": [
    {
     "name": "stdout",
     "output_type": "stream",
     "text": [
      "Total de archivos a procesar: 15\n"
     ]
    }
   ],
   "source": [
    "archivos = [\n",
    "    \"estatal_itaee.csv\",\n",
    "    \"estatal_pea.csv\",\n",
    "    \"estatal_poblacion_desocupada.csv\",\n",
    "    \"estatal_rezago_educativo.csv\",\n",
    "    \"estatal_sector_informal.csv\",\n",
    "    \"grado_promedio_escolaridad.csv\",\n",
    "    \"nacional_gasto_educacion_pib.csv\",\n",
    "    \"poblacion_asiste_escuela.csv\",\n",
    "    \"estatal_con_educacion_basica.csv\",\n",
    "    \"estatal_ingresos_hasta_1_salmin.csv\",\n",
    "    \"poblacion_total.csv\",\n",
    "    \"porcentaje_alfabetas.csv\",\n",
    "    \"total_viviendas_habitadas.csv\",\n",
    "    \"viviendas_con_automovil.csv\",\n",
    "    \"viviendas_con_internet.csv\"\n",
    "]\n",
    "\n",
    "print(f\"Total de archivos a procesar: {len(archivos)}\")\n"
   ]
  },
  {
   "cell_type": "code",
   "execution_count": 4,
   "id": "888025bf",
   "metadata": {},
   "outputs": [],
   "source": [
    "def procesar_archivo(nombre_archivo):\n",
    "    \"\"\"\n",
    "    Lee, limpia y estructura un archivo CSV para convertirlo a formato tidy.\n",
    "    \"\"\"\n",
    "    ruta = os.path.join(DATA_RAW, nombre_archivo)\n",
    "    print(f\"📂 Procesando: {nombre_archivo}\")\n",
    "    \n",
    "    # Leer CSV\n",
    "    try:\n",
    "        df = pd.read_csv(ruta)\n",
    "    except Exception as e:\n",
    "        print(f\"⚠️ Error al leer {nombre_archivo}: {e}\")\n",
    "        return None\n",
    "\n",
    "    # Estandarizar nombres de columnas\n",
    "    df.columns = df.columns.str.lower().str.strip()\n",
    "    \n",
    "    # Verificar si tiene 'municipio'\n",
    "    if 'municipio' in df.columns:\n",
    "        tidy = df[['municipio', 'periodo', 'valor']].copy()\n",
    "    else:\n",
    "        tidy = df[['periodo', 'valor']].copy()\n",
    "        tidy['municipio'] = None\n",
    "    \n",
    "    # Agregar metadatos\n",
    "    tidy['fuente'] = nombre_archivo.replace(\".csv\", \"\")\n",
    "    tidy['nivel'] = 'estatal' if 'estatal' in nombre_archivo else 'nacional'\n",
    "    \n",
    "    # Asegurar tipos correctos\n",
    "    tidy['periodo'] = tidy['periodo'].astype(str)\n",
    "    tidy['valor'] = pd.to_numeric(tidy['valor'], errors='coerce')\n",
    "    \n",
    "    # Guardar versión intermedia\n",
    "    nombre_salida = nombre_archivo.replace(\".csv\", \"_tidy.csv\")\n",
    "    tidy.to_csv(os.path.join(DATA_INTERIM, nombre_salida), index=False)\n",
    "    \n",
    "    return tidy\n"
   ]
  },
  {
   "cell_type": "code",
   "execution_count": 5,
   "id": "28796661",
   "metadata": {},
   "outputs": [
    {
     "name": "stdout",
     "output_type": "stream",
     "text": [
      "📂 Procesando: estatal_itaee.csv\n",
      "📂 Procesando: estatal_pea.csv\n",
      "📂 Procesando: estatal_poblacion_desocupada.csv\n",
      "📂 Procesando: estatal_rezago_educativo.csv\n",
      "📂 Procesando: estatal_sector_informal.csv\n",
      "📂 Procesando: grado_promedio_escolaridad.csv\n",
      "📂 Procesando: nacional_gasto_educacion_pib.csv\n",
      "📂 Procesando: poblacion_asiste_escuela.csv\n",
      "📂 Procesando: estatal_con_educacion_basica.csv\n",
      "📂 Procesando: estatal_ingresos_hasta_1_salmin.csv\n",
      "📂 Procesando: poblacion_total.csv\n",
      "📂 Procesando: porcentaje_alfabetas.csv\n",
      "📂 Procesando: total_viviendas_habitadas.csv\n",
      "📂 Procesando: viviendas_con_automovil.csv\n",
      "📂 Procesando: viviendas_con_internet.csv\n",
      "✅ Total de filas combinadas: 2655\n"
     ]
    }
   ],
   "source": [
    "tidy_data = []\n",
    "\n",
    "for archivo in archivos:\n",
    "    df_tidy = procesar_archivo(archivo)\n",
    "    if df_tidy is not None:\n",
    "        tidy_data.append(df_tidy)\n",
    "\n",
    "# Concatenar todos los datos\n",
    "tidy_df = pd.concat(tidy_data, ignore_index=True)\n",
    "print(f\"✅ Total de filas combinadas: {len(tidy_df)}\")\n"
   ]
  },
  {
   "cell_type": "code",
   "execution_count": null,
   "id": "bca2e64a",
   "metadata": {},
   "outputs": [
    {
     "name": "stdout",
     "output_type": "stream",
     "text": [
      "✅ Dataset final guardado en:\n",
      "../data/processed\\sonora_educacion_tidy.csv\n"
     ]
    },
    {
     "data": {
      "text/html": [
       "<div>\n",
       "<style scoped>\n",
       "    .dataframe tbody tr th:only-of-type {\n",
       "        vertical-align: middle;\n",
       "    }\n",
       "\n",
       "    .dataframe tbody tr th {\n",
       "        vertical-align: top;\n",
       "    }\n",
       "\n",
       "    .dataframe thead th {\n",
       "        text-align: right;\n",
       "    }\n",
       "</style>\n",
       "<table border=\"1\" class=\"dataframe\">\n",
       "  <thead>\n",
       "    <tr style=\"text-align: right;\">\n",
       "      <th></th>\n",
       "      <th>periodo</th>\n",
       "      <th>valor</th>\n",
       "      <th>municipio</th>\n",
       "      <th>fuente</th>\n",
       "      <th>nivel</th>\n",
       "    </tr>\n",
       "  </thead>\n",
       "  <tbody>\n",
       "    <tr>\n",
       "      <th>1805</th>\n",
       "      <td>2015</td>\n",
       "      <td>96.920290</td>\n",
       "      <td>Divisaderos</td>\n",
       "      <td>porcentaje_alfabetas</td>\n",
       "      <td>nacional</td>\n",
       "    </tr>\n",
       "    <tr>\n",
       "      <th>180</th>\n",
       "      <td>1980/01</td>\n",
       "      <td>38.557052</td>\n",
       "      <td>None</td>\n",
       "      <td>estatal_itaee</td>\n",
       "      <td>estatal</td>\n",
       "    </tr>\n",
       "    <tr>\n",
       "      <th>...</th>\n",
       "      <td>...</td>\n",
       "      <td>...</td>\n",
       "      <td>...</td>\n",
       "      <td>...</td>\n",
       "      <td>...</td>\n",
       "    </tr>\n",
       "    <tr>\n",
       "      <th>2457</th>\n",
       "      <td>2020</td>\n",
       "      <td>60.619469</td>\n",
       "      <td>La Colorada</td>\n",
       "      <td>viviendas_con_automovil</td>\n",
       "      <td>nacional</td>\n",
       "    </tr>\n",
       "    <tr>\n",
       "      <th>2545</th>\n",
       "      <td>2015</td>\n",
       "      <td>38.104133</td>\n",
       "      <td>Cajeme</td>\n",
       "      <td>viviendas_con_internet</td>\n",
       "      <td>nacional</td>\n",
       "    </tr>\n",
       "  </tbody>\n",
       "</table>\n",
       "<p>10 rows × 5 columns</p>\n",
       "</div>"
      ],
      "text/plain": [
       "      periodo      valor    municipio                   fuente     nivel\n",
       "1805     2015  96.920290  Divisaderos     porcentaje_alfabetas  nacional\n",
       "180   1980/01  38.557052         None            estatal_itaee   estatal\n",
       "...       ...        ...          ...                      ...       ...\n",
       "2457     2020  60.619469  La Colorada  viviendas_con_automovil  nacional\n",
       "2545     2015  38.104133       Cajeme   viviendas_con_internet  nacional\n",
       "\n",
       "[10 rows x 5 columns]"
      ]
     },
     "execution_count": 6,
     "metadata": {},
     "output_type": "execute_result"
    }
   ],
   "source": [
    "# Guardar dataset combinado en data/processed/\n",
    "output_path = os.path.join(DATA_PROCESSED, \"sonora_educacion_tidy_inegi.csv\")\n",
    "tidy_df.to_csv(output_path, index=False)\n",
    "\n",
    "print(f\"✅ Dataset final guardado en:\\n{output_path}\")\n",
    "tidy_df.sample(10)\n"
   ]
  },
  {
   "cell_type": "code",
   "execution_count": 12,
   "id": "9008fbff",
   "metadata": {},
   "outputs": [
    {
     "name": "stdout",
     "output_type": "stream",
     "text": [
      "🔍 Vista general de los datos:\n"
     ]
    },
    {
     "data": {
      "text/html": [
       "<div>\n",
       "<style scoped>\n",
       "    .dataframe tbody tr th:only-of-type {\n",
       "        vertical-align: middle;\n",
       "    }\n",
       "\n",
       "    .dataframe tbody tr th {\n",
       "        vertical-align: top;\n",
       "    }\n",
       "\n",
       "    .dataframe thead th {\n",
       "        text-align: right;\n",
       "    }\n",
       "</style>\n",
       "<table border=\"1\" class=\"dataframe\">\n",
       "  <thead>\n",
       "    <tr style=\"text-align: right;\">\n",
       "      <th></th>\n",
       "      <th>periodo</th>\n",
       "      <th>valor</th>\n",
       "      <th>municipio</th>\n",
       "      <th>fuente</th>\n",
       "      <th>nivel</th>\n",
       "    </tr>\n",
       "  </thead>\n",
       "  <tbody>\n",
       "    <tr>\n",
       "      <th>2635</th>\n",
       "      <td>2015</td>\n",
       "      <td>26.485149</td>\n",
       "      <td>Tepache</td>\n",
       "      <td>viviendas_con_internet</td>\n",
       "      <td>nacional</td>\n",
       "    </tr>\n",
       "    <tr>\n",
       "      <th>2636</th>\n",
       "      <td>2020</td>\n",
       "      <td>51.385390</td>\n",
       "      <td>Tepache</td>\n",
       "      <td>viviendas_con_internet</td>\n",
       "      <td>nacional</td>\n",
       "    </tr>\n",
       "    <tr>\n",
       "      <th>...</th>\n",
       "      <td>...</td>\n",
       "      <td>...</td>\n",
       "      <td>...</td>\n",
       "      <td>...</td>\n",
       "      <td>...</td>\n",
       "    </tr>\n",
       "    <tr>\n",
       "      <th>2653</th>\n",
       "      <td>2015</td>\n",
       "      <td>11.702688</td>\n",
       "      <td>San Ignacio Rio Muerto</td>\n",
       "      <td>viviendas_con_internet</td>\n",
       "      <td>nacional</td>\n",
       "    </tr>\n",
       "    <tr>\n",
       "      <th>2654</th>\n",
       "      <td>2020</td>\n",
       "      <td>21.044547</td>\n",
       "      <td>San Ignacio Rio Muerto</td>\n",
       "      <td>viviendas_con_internet</td>\n",
       "      <td>nacional</td>\n",
       "    </tr>\n",
       "  </tbody>\n",
       "</table>\n",
       "<p>20 rows × 5 columns</p>\n",
       "</div>"
      ],
      "text/plain": [
       "     periodo      valor               municipio                  fuente  \\\n",
       "2635    2015  26.485149                 Tepache  viviendas_con_internet   \n",
       "2636    2020  51.385390                 Tepache  viviendas_con_internet   \n",
       "...      ...        ...                     ...                     ...   \n",
       "2653    2015  11.702688  San Ignacio Rio Muerto  viviendas_con_internet   \n",
       "2654    2020  21.044547  San Ignacio Rio Muerto  viviendas_con_internet   \n",
       "\n",
       "         nivel  \n",
       "2635  nacional  \n",
       "2636  nacional  \n",
       "...        ...  \n",
       "2653  nacional  \n",
       "2654  nacional  \n",
       "\n",
       "[20 rows x 5 columns]"
      ]
     },
     "metadata": {},
     "output_type": "display_data"
    },
    {
     "name": "stdout",
     "output_type": "stream",
     "text": [
      "\n",
      "Columnas disponibles:\n",
      "['periodo', 'valor', 'municipio', 'fuente', 'nivel']\n",
      "\n",
      "Número de fuentes distintas: 15\n",
      "Ejemplo de fuentes: ['estatal_itaee' 'estatal_pea' 'estatal_poblacion_desocupada'\n",
      " 'estatal_rezago_educativo' 'estatal_sector_informal']\n"
     ]
    }
   ],
   "source": [
    "print(\"🔍 Vista general de los datos:\")\n",
    "display(tidy_df.tail(20))\n",
    "\n",
    "print(\"\\nColumnas disponibles:\")\n",
    "print(list(tidy_df.columns))\n",
    "\n",
    "print(\"\\nNúmero de fuentes distintas:\", tidy_df['fuente'].nunique())\n",
    "print(\"Ejemplo de fuentes:\", tidy_df['fuente'].unique()[:5])\n"
   ]
  }
 ],
 "metadata": {
  "kernelspec": {
   "display_name": "Python 3",
   "language": "python",
   "name": "python3"
  },
  "language_info": {
   "codemirror_mode": {
    "name": "ipython",
    "version": 3
   },
   "file_extension": ".py",
   "mimetype": "text/x-python",
   "name": "python",
   "nbconvert_exporter": "python",
   "pygments_lexer": "ipython3",
   "version": "3.13.7"
  }
 },
 "nbformat": 4,
 "nbformat_minor": 5
}
